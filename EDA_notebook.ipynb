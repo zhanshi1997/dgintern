{
 "cells": [
  {
   "cell_type": "code",
   "execution_count": 1,
   "metadata": {},
   "outputs": [],
   "source": [
    "import pandas as pd\n",
    "import datetime\n",
    "import csv\n",
    "import numpy as np\n",
    "import matplotlib.pyplot as plt"
   ]
  },
  {
   "cell_type": "markdown",
   "metadata": {},
   "source": [
    "To convert the ['Date of Travrel'] values into date format, i used this function authored by @alaudet https://gist.github.com/alaudet/307ac574973028497d083f6d43575214"
   ]
  },
  {
   "cell_type": "code",
   "execution_count": 2,
   "metadata": {},
   "outputs": [],
   "source": [
    "def date_to_string(digit_date):\n",
    "    new_form = []\n",
    "    for d in digit_date:\n",
    "        try:\n",
    "            x = datetime.date(1899,12,30) + datetime.timedelta(days=float(d))\n",
    "            new_form.append(x.strftime('%Y-%m-%d'))\n",
    "        except:\n",
    "            new_form.append('n/a')\n",
    "    return new_form"
   ]
  },
  {
   "cell_type": "markdown",
   "metadata": {},
   "source": [
    "# Import CSV data"
   ]
  },
  {
   "cell_type": "code",
   "execution_count": 3,
   "metadata": {},
   "outputs": [
    {
     "data": {
      "text/html": [
       "<div>\n",
       "<style scoped>\n",
       "    .dataframe tbody tr th:only-of-type {\n",
       "        vertical-align: middle;\n",
       "    }\n",
       "\n",
       "    .dataframe tbody tr th {\n",
       "        vertical-align: top;\n",
       "    }\n",
       "\n",
       "    .dataframe thead th {\n",
       "        text-align: right;\n",
       "    }\n",
       "</style>\n",
       "<table border=\"1\" class=\"dataframe\">\n",
       "  <thead>\n",
       "    <tr style=\"text-align: right;\">\n",
       "      <th></th>\n",
       "      <th>Transaction ID</th>\n",
       "      <th>Date of Travel</th>\n",
       "      <th>Company</th>\n",
       "      <th>City</th>\n",
       "      <th>KM Travelled</th>\n",
       "      <th>Price Charged</th>\n",
       "      <th>Cost of Trip</th>\n",
       "    </tr>\n",
       "  </thead>\n",
       "  <tbody>\n",
       "    <tr>\n",
       "      <th>0</th>\n",
       "      <td>10000011</td>\n",
       "      <td>2016-01-08</td>\n",
       "      <td>Pink Cab</td>\n",
       "      <td>ATLANTA GA</td>\n",
       "      <td>30.45</td>\n",
       "      <td>370.95</td>\n",
       "      <td>313.635</td>\n",
       "    </tr>\n",
       "    <tr>\n",
       "      <th>1</th>\n",
       "      <td>10000012</td>\n",
       "      <td>2016-01-06</td>\n",
       "      <td>Pink Cab</td>\n",
       "      <td>ATLANTA GA</td>\n",
       "      <td>28.62</td>\n",
       "      <td>358.52</td>\n",
       "      <td>334.854</td>\n",
       "    </tr>\n",
       "    <tr>\n",
       "      <th>2</th>\n",
       "      <td>10000013</td>\n",
       "      <td>2016-01-02</td>\n",
       "      <td>Pink Cab</td>\n",
       "      <td>ATLANTA GA</td>\n",
       "      <td>9.04</td>\n",
       "      <td>125.20</td>\n",
       "      <td>97.632</td>\n",
       "    </tr>\n",
       "    <tr>\n",
       "      <th>3</th>\n",
       "      <td>10000014</td>\n",
       "      <td>2016-01-07</td>\n",
       "      <td>Pink Cab</td>\n",
       "      <td>ATLANTA GA</td>\n",
       "      <td>33.17</td>\n",
       "      <td>377.40</td>\n",
       "      <td>351.602</td>\n",
       "    </tr>\n",
       "    <tr>\n",
       "      <th>4</th>\n",
       "      <td>10000015</td>\n",
       "      <td>2016-01-03</td>\n",
       "      <td>Pink Cab</td>\n",
       "      <td>ATLANTA GA</td>\n",
       "      <td>8.73</td>\n",
       "      <td>114.62</td>\n",
       "      <td>97.776</td>\n",
       "    </tr>\n",
       "  </tbody>\n",
       "</table>\n",
       "</div>"
      ],
      "text/plain": [
       "   Transaction ID Date of Travel   Company        City  KM Travelled  \\\n",
       "0        10000011     2016-01-08  Pink Cab  ATLANTA GA         30.45   \n",
       "1        10000012     2016-01-06  Pink Cab  ATLANTA GA         28.62   \n",
       "2        10000013     2016-01-02  Pink Cab  ATLANTA GA          9.04   \n",
       "3        10000014     2016-01-07  Pink Cab  ATLANTA GA         33.17   \n",
       "4        10000015     2016-01-03  Pink Cab  ATLANTA GA          8.73   \n",
       "\n",
       "   Price Charged  Cost of Trip  \n",
       "0         370.95       313.635  \n",
       "1         358.52       334.854  \n",
       "2         125.20        97.632  \n",
       "3         377.40       351.602  \n",
       "4         114.62        97.776  "
      ]
     },
     "execution_count": 3,
     "metadata": {},
     "output_type": "execute_result"
    }
   ],
   "source": [
    "cab_data = pd.read_csv('~/dg_intern/DataSets/Cab_Data.csv')\n",
    "# the date are converted here, and there's no null value.\n",
    "cab_data['Date of Travel'] = date_to_string(cab_data['Date of Travel'])\n",
    "# cab_data['Date of Travel'] = pd.to_datetime(cab_data['Date of Travel'], errors='coerce')\n",
    "cab_data.head()\n"
   ]
  },
  {
   "cell_type": "code",
   "execution_count": 4,
   "metadata": {},
   "outputs": [
    {
     "name": "stdout",
     "output_type": "stream",
     "text": [
      "The companies we are assessing are ['Pink Cab', 'Yellow Cab']\n"
     ]
    }
   ],
   "source": [
    "list = []\n",
    "# cab_data_company = pd.read_csv('~/dg_intern/DataSets/Cab_Data.csv', usecols=['Company'])\n",
    "for name in cab_data['Company']:\n",
    "    if list != []:\n",
    "        if name in list:\n",
    "            continue\n",
    "        else:\n",
    "            list.append(name)\n",
    "    elif list == []:\n",
    "        list.append(name)\n",
    "# print(list)\n",
    "print('The companies we are assessing are ' + str(list))"
   ]
  },
  {
   "cell_type": "code",
   "execution_count": 5,
   "metadata": {},
   "outputs": [
    {
     "name": "stdout",
     "output_type": "stream",
     "text": [
      "We have data collected from 20 cities in total.\n"
     ]
    },
    {
     "data": {
      "text/html": [
       "<div>\n",
       "<style scoped>\n",
       "    .dataframe tbody tr th:only-of-type {\n",
       "        vertical-align: middle;\n",
       "    }\n",
       "\n",
       "    .dataframe tbody tr th {\n",
       "        vertical-align: top;\n",
       "    }\n",
       "\n",
       "    .dataframe thead th {\n",
       "        text-align: right;\n",
       "    }\n",
       "</style>\n",
       "<table border=\"1\" class=\"dataframe\">\n",
       "  <thead>\n",
       "    <tr style=\"text-align: right;\">\n",
       "      <th></th>\n",
       "      <th>City</th>\n",
       "      <th>Population</th>\n",
       "      <th>Users</th>\n",
       "    </tr>\n",
       "  </thead>\n",
       "  <tbody>\n",
       "    <tr>\n",
       "      <th>0</th>\n",
       "      <td>NEW YORK NY</td>\n",
       "      <td>8,405,837</td>\n",
       "      <td>302,149</td>\n",
       "    </tr>\n",
       "    <tr>\n",
       "      <th>1</th>\n",
       "      <td>CHICAGO IL</td>\n",
       "      <td>1,955,130</td>\n",
       "      <td>164,468</td>\n",
       "    </tr>\n",
       "    <tr>\n",
       "      <th>2</th>\n",
       "      <td>LOS ANGELES CA</td>\n",
       "      <td>1,595,037</td>\n",
       "      <td>144,132</td>\n",
       "    </tr>\n",
       "    <tr>\n",
       "      <th>3</th>\n",
       "      <td>MIAMI FL</td>\n",
       "      <td>1,339,155</td>\n",
       "      <td>17,675</td>\n",
       "    </tr>\n",
       "    <tr>\n",
       "      <th>4</th>\n",
       "      <td>SILICON VALLEY</td>\n",
       "      <td>1,177,609</td>\n",
       "      <td>27,247</td>\n",
       "    </tr>\n",
       "  </tbody>\n",
       "</table>\n",
       "</div>"
      ],
      "text/plain": [
       "             City   Population      Users\n",
       "0     NEW YORK NY   8,405,837    302,149 \n",
       "1      CHICAGO IL   1,955,130    164,468 \n",
       "2  LOS ANGELES CA   1,595,037    144,132 \n",
       "3        MIAMI FL   1,339,155     17,675 \n",
       "4  SILICON VALLEY   1,177,609     27,247 "
      ]
     },
     "execution_count": 5,
     "metadata": {},
     "output_type": "execute_result"
    }
   ],
   "source": [
    "city = pd.read_csv('~/dg_intern/DataSets/City.csv')\n",
    "print('We have data collected from ' + str(len(city['City'])) + ' cities in total.')\n",
    "city.head()"
   ]
  },
  {
   "cell_type": "code",
   "execution_count": 6,
   "metadata": {},
   "outputs": [
    {
     "data": {
      "text/html": [
       "<div>\n",
       "<style scoped>\n",
       "    .dataframe tbody tr th:only-of-type {\n",
       "        vertical-align: middle;\n",
       "    }\n",
       "\n",
       "    .dataframe tbody tr th {\n",
       "        vertical-align: top;\n",
       "    }\n",
       "\n",
       "    .dataframe thead th {\n",
       "        text-align: right;\n",
       "    }\n",
       "</style>\n",
       "<table border=\"1\" class=\"dataframe\">\n",
       "  <thead>\n",
       "    <tr style=\"text-align: right;\">\n",
       "      <th></th>\n",
       "      <th>Customer ID</th>\n",
       "      <th>Gender</th>\n",
       "      <th>Age</th>\n",
       "      <th>Income (USD/Month)</th>\n",
       "    </tr>\n",
       "  </thead>\n",
       "  <tbody>\n",
       "    <tr>\n",
       "      <th>0</th>\n",
       "      <td>29290</td>\n",
       "      <td>Male</td>\n",
       "      <td>28</td>\n",
       "      <td>10813</td>\n",
       "    </tr>\n",
       "    <tr>\n",
       "      <th>1</th>\n",
       "      <td>27703</td>\n",
       "      <td>Male</td>\n",
       "      <td>27</td>\n",
       "      <td>9237</td>\n",
       "    </tr>\n",
       "    <tr>\n",
       "      <th>2</th>\n",
       "      <td>28712</td>\n",
       "      <td>Male</td>\n",
       "      <td>53</td>\n",
       "      <td>11242</td>\n",
       "    </tr>\n",
       "    <tr>\n",
       "      <th>3</th>\n",
       "      <td>28020</td>\n",
       "      <td>Male</td>\n",
       "      <td>23</td>\n",
       "      <td>23327</td>\n",
       "    </tr>\n",
       "    <tr>\n",
       "      <th>4</th>\n",
       "      <td>27182</td>\n",
       "      <td>Male</td>\n",
       "      <td>33</td>\n",
       "      <td>8536</td>\n",
       "    </tr>\n",
       "  </tbody>\n",
       "</table>\n",
       "</div>"
      ],
      "text/plain": [
       "   Customer ID Gender  Age  Income (USD/Month)\n",
       "0        29290   Male   28               10813\n",
       "1        27703   Male   27                9237\n",
       "2        28712   Male   53               11242\n",
       "3        28020   Male   23               23327\n",
       "4        27182   Male   33                8536"
      ]
     },
     "execution_count": 6,
     "metadata": {},
     "output_type": "execute_result"
    }
   ],
   "source": [
    "customer_id = pd.read_csv('~/dg_intern/DataSets/Customer_ID.csv')\n",
    "customer_id.head()\n"
   ]
  },
  {
   "cell_type": "code",
   "execution_count": 7,
   "metadata": {},
   "outputs": [
    {
     "data": {
      "text/html": [
       "<div>\n",
       "<style scoped>\n",
       "    .dataframe tbody tr th:only-of-type {\n",
       "        vertical-align: middle;\n",
       "    }\n",
       "\n",
       "    .dataframe tbody tr th {\n",
       "        vertical-align: top;\n",
       "    }\n",
       "\n",
       "    .dataframe thead th {\n",
       "        text-align: right;\n",
       "    }\n",
       "</style>\n",
       "<table border=\"1\" class=\"dataframe\">\n",
       "  <thead>\n",
       "    <tr style=\"text-align: right;\">\n",
       "      <th></th>\n",
       "      <th>Transaction ID</th>\n",
       "      <th>Customer ID</th>\n",
       "      <th>Payment_Mode</th>\n",
       "    </tr>\n",
       "  </thead>\n",
       "  <tbody>\n",
       "    <tr>\n",
       "      <th>0</th>\n",
       "      <td>10000011</td>\n",
       "      <td>29290</td>\n",
       "      <td>Card</td>\n",
       "    </tr>\n",
       "    <tr>\n",
       "      <th>1</th>\n",
       "      <td>10000012</td>\n",
       "      <td>27703</td>\n",
       "      <td>Card</td>\n",
       "    </tr>\n",
       "    <tr>\n",
       "      <th>2</th>\n",
       "      <td>10000013</td>\n",
       "      <td>28712</td>\n",
       "      <td>Cash</td>\n",
       "    </tr>\n",
       "    <tr>\n",
       "      <th>3</th>\n",
       "      <td>10000014</td>\n",
       "      <td>28020</td>\n",
       "      <td>Cash</td>\n",
       "    </tr>\n",
       "    <tr>\n",
       "      <th>4</th>\n",
       "      <td>10000015</td>\n",
       "      <td>27182</td>\n",
       "      <td>Card</td>\n",
       "    </tr>\n",
       "  </tbody>\n",
       "</table>\n",
       "</div>"
      ],
      "text/plain": [
       "   Transaction ID  Customer ID Payment_Mode\n",
       "0        10000011        29290         Card\n",
       "1        10000012        27703         Card\n",
       "2        10000013        28712         Cash\n",
       "3        10000014        28020         Cash\n",
       "4        10000015        27182         Card"
      ]
     },
     "execution_count": 7,
     "metadata": {},
     "output_type": "execute_result"
    }
   ],
   "source": [
    "\n",
    "transaction = pd.read_csv('~/dg_intern/DataSets/Transaction_ID.csv')\n",
    "transaction.head()"
   ]
  },
  {
   "cell_type": "markdown",
   "metadata": {},
   "source": [
    "# Establish the relational database"
   ]
  },
  {
   "cell_type": "code",
   "execution_count": 8,
   "metadata": {},
   "outputs": [
    {
     "data": {
      "text/html": [
       "<div>\n",
       "<style scoped>\n",
       "    .dataframe tbody tr th:only-of-type {\n",
       "        vertical-align: middle;\n",
       "    }\n",
       "\n",
       "    .dataframe tbody tr th {\n",
       "        vertical-align: top;\n",
       "    }\n",
       "\n",
       "    .dataframe thead th {\n",
       "        text-align: right;\n",
       "    }\n",
       "</style>\n",
       "<table border=\"1\" class=\"dataframe\">\n",
       "  <thead>\n",
       "    <tr style=\"text-align: right;\">\n",
       "      <th></th>\n",
       "      <th>Transaction ID</th>\n",
       "      <th>Date of Travel</th>\n",
       "      <th>Company</th>\n",
       "      <th>City</th>\n",
       "      <th>KM Travelled</th>\n",
       "      <th>Price Charged</th>\n",
       "      <th>Cost of Trip</th>\n",
       "      <th>Customer ID</th>\n",
       "      <th>Payment_Mode</th>\n",
       "      <th>Gender</th>\n",
       "      <th>Age</th>\n",
       "      <th>Income (USD/Month)</th>\n",
       "    </tr>\n",
       "  </thead>\n",
       "  <tbody>\n",
       "    <tr>\n",
       "      <th>0</th>\n",
       "      <td>10000011</td>\n",
       "      <td>2016-01-08</td>\n",
       "      <td>Pink Cab</td>\n",
       "      <td>ATLANTA GA</td>\n",
       "      <td>30.45</td>\n",
       "      <td>370.95</td>\n",
       "      <td>313.6350</td>\n",
       "      <td>29290</td>\n",
       "      <td>Card</td>\n",
       "      <td>Male</td>\n",
       "      <td>28</td>\n",
       "      <td>10813</td>\n",
       "    </tr>\n",
       "    <tr>\n",
       "      <th>1</th>\n",
       "      <td>10351127</td>\n",
       "      <td>2018-07-21</td>\n",
       "      <td>Yellow Cab</td>\n",
       "      <td>ATLANTA GA</td>\n",
       "      <td>26.19</td>\n",
       "      <td>598.70</td>\n",
       "      <td>317.4228</td>\n",
       "      <td>29290</td>\n",
       "      <td>Cash</td>\n",
       "      <td>Male</td>\n",
       "      <td>28</td>\n",
       "      <td>10813</td>\n",
       "    </tr>\n",
       "    <tr>\n",
       "      <th>2</th>\n",
       "      <td>10412921</td>\n",
       "      <td>2018-11-23</td>\n",
       "      <td>Yellow Cab</td>\n",
       "      <td>ATLANTA GA</td>\n",
       "      <td>42.55</td>\n",
       "      <td>792.05</td>\n",
       "      <td>597.4020</td>\n",
       "      <td>29290</td>\n",
       "      <td>Card</td>\n",
       "      <td>Male</td>\n",
       "      <td>28</td>\n",
       "      <td>10813</td>\n",
       "    </tr>\n",
       "    <tr>\n",
       "      <th>3</th>\n",
       "      <td>10000012</td>\n",
       "      <td>2016-01-06</td>\n",
       "      <td>Pink Cab</td>\n",
       "      <td>ATLANTA GA</td>\n",
       "      <td>28.62</td>\n",
       "      <td>358.52</td>\n",
       "      <td>334.8540</td>\n",
       "      <td>27703</td>\n",
       "      <td>Card</td>\n",
       "      <td>Male</td>\n",
       "      <td>27</td>\n",
       "      <td>9237</td>\n",
       "    </tr>\n",
       "    <tr>\n",
       "      <th>4</th>\n",
       "      <td>10320494</td>\n",
       "      <td>2018-04-21</td>\n",
       "      <td>Yellow Cab</td>\n",
       "      <td>ATLANTA GA</td>\n",
       "      <td>36.38</td>\n",
       "      <td>721.10</td>\n",
       "      <td>467.1192</td>\n",
       "      <td>27703</td>\n",
       "      <td>Card</td>\n",
       "      <td>Male</td>\n",
       "      <td>27</td>\n",
       "      <td>9237</td>\n",
       "    </tr>\n",
       "  </tbody>\n",
       "</table>\n",
       "</div>"
      ],
      "text/plain": [
       "   Transaction ID Date of Travel     Company        City  KM Travelled  \\\n",
       "0        10000011     2016-01-08    Pink Cab  ATLANTA GA         30.45   \n",
       "1        10351127     2018-07-21  Yellow Cab  ATLANTA GA         26.19   \n",
       "2        10412921     2018-11-23  Yellow Cab  ATLANTA GA         42.55   \n",
       "3        10000012     2016-01-06    Pink Cab  ATLANTA GA         28.62   \n",
       "4        10320494     2018-04-21  Yellow Cab  ATLANTA GA         36.38   \n",
       "\n",
       "   Price Charged  Cost of Trip  Customer ID Payment_Mode Gender  Age  \\\n",
       "0         370.95      313.6350        29290         Card   Male   28   \n",
       "1         598.70      317.4228        29290         Cash   Male   28   \n",
       "2         792.05      597.4020        29290         Card   Male   28   \n",
       "3         358.52      334.8540        27703         Card   Male   27   \n",
       "4         721.10      467.1192        27703         Card   Male   27   \n",
       "\n",
       "   Income (USD/Month)  \n",
       "0               10813  \n",
       "1               10813  \n",
       "2               10813  \n",
       "3                9237  \n",
       "4                9237  "
      ]
     },
     "execution_count": 8,
     "metadata": {},
     "output_type": "execute_result"
    }
   ],
   "source": [
    "output1 = pd.merge(cab_data, transaction, \n",
    "                   on='Transaction ID', \n",
    "                   how='inner')\n",
    "cab_trans_customer = pd.merge(output1, customer_id, \n",
    "                   on='Customer ID', \n",
    "                   how='inner')\n",
    "cab_trans_customer.head()"
   ]
  },
  {
   "cell_type": "markdown",
   "metadata": {},
   "source": [
    "# General information"
   ]
  },
  {
   "cell_type": "markdown",
   "metadata": {},
   "source": [
    "## annual profit"
   ]
  },
  {
   "cell_type": "code",
   "execution_count": 11,
   "metadata": {},
   "outputs": [],
   "source": [
    "profit_pi = [[],[],[]]\n",
    "profit_ye = [[],[],[]]\n",
    "\n",
    "# To divide data based on company\n",
    "for i, name in enumerate(cab_trans_customer['Company']):\n",
    "    a = cab_trans_customer['Price Charged'][i] - cab_trans_customer['Cost of Trip'][i]\n",
    "    if name == 'Pink Cab':\n",
    "        if cab_trans_customer['Date of Travel'][i][:4] == '2016':\n",
    "            profit_pi[0].append(a)\n",
    "        elif cab_trans_customer['Date of Travel'][i][:4] == '2017':\n",
    "            profit_pi[1].append(a)\n",
    "        elif cab_trans_customer['Date of Travel'][i][:4] == '2018':\n",
    "            profit_pi[2].append(a)\n",
    "    elif name == 'Yellow Cab':\n",
    "        if cab_trans_customer['Date of Travel'][i][:4] == '2016':\n",
    "            profit_ye[0].append(a)\n",
    "        elif cab_trans_customer['Date of Travel'][i][:4] == '2017':\n",
    "            profit_ye[1].append(a)\n",
    "        elif cab_trans_customer['Date of Travel'][i][:4] == '2018':\n",
    "            profit_ye[2].append(a)\n",
    "    else:\n",
    "        print('missing')\n",
    "        "
   ]
  },
  {
   "cell_type": "code",
   "execution_count": 12,
   "metadata": {},
   "outputs": [],
   "source": [
    "ann_profit = np.ma.zeros((2, 3))\n",
    "ann_profit[0,0] = sum(profit_pi[0])\n",
    "ann_profit[0,1] = sum(profit_pi[1])\n",
    "ann_profit[0,2] = sum(profit_pi[2])\n",
    "ann_profit[1,0] = sum(profit_ye[0])\n",
    "ann_profit[1,1] = sum(profit_ye[1])\n",
    "ann_profit[1,2] = sum(profit_ye[2])\n"
   ]
  },
  {
   "cell_type": "markdown",
   "metadata": {},
   "source": [
    "## seasonal profits"
   ]
  },
  {
   "cell_type": "code",
   "execution_count": 9,
   "metadata": {},
   "outputs": [],
   "source": [
    "profit_pi_sea = [[0]*12 for i in range(3)]\n",
    "profit_ye_sea = [[0]*12 for i in range(3)]\n",
    "\n",
    "# To divide data based on company\n",
    "for i, name in enumerate(cab_trans_customer['Company']):\n",
    "    a = cab_trans_customer['Price Charged'][i] - cab_trans_customer['Cost of Trip'][i]\n",
    "    mon = 10* int(cab_trans_customer['Date of Travel'][i][5]) + int(cab_trans_customer['Date of Travel'][i][6])\n",
    "    if name == 'Pink Cab':\n",
    "        profit_pi_sea[int(cab_trans_customer['Date of Travel'][i][:4]) - 2016][mon-1] += a\n",
    "    elif name == 'Yellow Cab':\n",
    "        profit_ye_sea[int(cab_trans_customer['Date of Travel'][i][:4]) - 2016][mon-1] += a\n",
    "    else:\n",
    "        print('missing')\n",
    "        \n",
    "sea_profit = np.ma.empty((2,3,4)) # two companies, 3 years, 4 seasons\n",
    "sea_profit[0,0,0] = sum(profit_pi_sea[0][:3])\n",
    "sea_profit[0,0,1] = sum(profit_pi_sea[0][3:6])\n",
    "sea_profit[0,0,2] = sum(profit_pi_sea[0][6:9])\n",
    "sea_profit[0,0,3] = sum(profit_pi_sea[0][9:12])\n",
    "sea_profit[0,1,0] = sum(profit_pi_sea[1][:3])\n",
    "sea_profit[0,1,1] = sum(profit_pi_sea[1][3:6])\n",
    "sea_profit[0,1,2] = sum(profit_pi_sea[1][6:9])\n",
    "sea_profit[0,1,3] = sum(profit_pi_sea[1][9:12])\n",
    "sea_profit[0,2,0] = sum(profit_pi_sea[2][:3])\n",
    "sea_profit[0,2,1] = sum(profit_pi_sea[2][3:6])\n",
    "sea_profit[0,2,2] = sum(profit_pi_sea[2][6:9])\n",
    "sea_profit[0,2,3] = sum(profit_pi_sea[2][9:12])\n",
    "\n",
    "sea_profit[1,0,0] = sum(profit_ye_sea[0][:3])\n",
    "sea_profit[1,0,1] = sum(profit_ye_sea[0][3:6])\n",
    "sea_profit[1,0,2] = sum(profit_ye_sea[0][6:9])\n",
    "sea_profit[1,0,3] = sum(profit_ye_sea[0][9:12])\n",
    "sea_profit[1,1,0] = sum(profit_ye_sea[1][:3])\n",
    "sea_profit[1,1,1] = sum(profit_ye_sea[1][3:6])\n",
    "sea_profit[1,1,2] = sum(profit_ye_sea[1][6:9])\n",
    "sea_profit[1,1,3] = sum(profit_ye_sea[1][9:12])\n",
    "sea_profit[1,2,0] = sum(profit_ye_sea[2][:3])\n",
    "sea_profit[1,2,1] = sum(profit_ye_sea[2][3:6])\n",
    "sea_profit[1,2,2] = sum(profit_ye_sea[2][6:9])\n",
    "sea_profit[1,2,3] = sum(profit_ye_sea[2][9:12])\n"
   ]
  },
  {
   "cell_type": "markdown",
   "metadata": {},
   "source": [
    "## portion of seasonal profits in total"
   ]
  },
  {
   "cell_type": "code",
   "execution_count": 13,
   "metadata": {},
   "outputs": [],
   "source": [
    "sea_ann_profit = np.ma.empty((2, 4))\n",
    "for i in range(2):\n",
    "    for sea in range(4):\n",
    "        sum_ann_profit = sum(ann_profit[i, :])\n",
    "        sum_sea_profit = sum(sea_profit[i, :, sea])\n",
    "        sea_ann_profit[i, sea] = sum_sea_profit / sum_ann_profit"
   ]
  },
  {
   "cell_type": "markdown",
   "metadata": {},
   "source": [
    "## portion of seasonal profits of each year"
   ]
  },
  {
   "cell_type": "code",
   "execution_count": 14,
   "metadata": {},
   "outputs": [],
   "source": [
    "for i in range(2):\n",
    "    for iyear in range(3):\n",
    "        sea_profit[i, iyear, :] = sea_profit[i, iyear, :] / ann_profit[i,iyear]"
   ]
  },
  {
   "cell_type": "markdown",
   "metadata": {},
   "source": [
    "## plots"
   ]
  },
  {
   "cell_type": "code",
   "execution_count": 25,
   "metadata": {},
   "outputs": [
    {
     "name": "stdout",
     "output_type": "stream",
     "text": [
      "[0.0, 0.3, 0.6, 0.8999999999999999]\n",
      "[2.0, 2.3, 2.6, 2.9]\n"
     ]
    }
   ],
   "source": [
    "b1 = np.arange(4)\n",
    "br1 = [x*barWidth for x in b1]\n",
    "br2 = [2 + x*barWidth for x in b1]\n",
    "print(br1)\n",
    "print(br2)"
   ]
  },
  {
   "cell_type": "code",
   "execution_count": 26,
   "metadata": {},
   "outputs": [
    {
     "name": "stdout",
     "output_type": "stream",
     "text": [
      "Annual Profits of from 2016 to 2018\n",
      "[[ 1713511.224       2033654.90800001  1560162.18899998]\n",
      " [13926995.43159986 16575977.96800002 13517399.77119991]]\n"
     ]
    },
    {
     "data": {
      "image/png": "[encoded data removed]",
      "text/plain": [
       "<Figure size 576x432 with 2 Axes>"
      ]
     },
     "metadata": {
      "needs_background": "light"
     },
     "output_type": "display_data"
    }
   ],
   "source": [
    "print('Annual Profits of from 2016 to 2018')\n",
    "print(ann_profit)\n",
    "barWidth = 0.3\n",
    "br1 = np.arange(3)\n",
    "br2 = [x + barWidth for x in br1]\n",
    "fig, axs = plt.subplots(nrows=1,ncols=2, figsize= (8,6))\n",
    "fig.suptitle('Annual and Seasonal Profits from 2016 to 2018')\n",
    "axs[0].bar(br1, ann_profit[0], width = barWidth, color = 'hotpink', align='center')\n",
    "axs[0].bar(br2, ann_profit[1], width = barWidth, color = 'gold', align='center')\n",
    "axs[0].legend(['Pink Cab', 'Yellow cab'])\n",
    "axs[0].set_xticks([r + 0.5*barWidth for r in range(3)], ['2016','2017','2018'])\n",
    "axs[0].set_ylabel('annual profit (USD)')\n",
    "\n",
    "# sea_ann_profit\n",
    "b1 = np.arange(4)\n",
    "br1 = [x*barWidth for x in b1]\n",
    "br2 = [2 + x*barWidth for x in b1]\n",
    "\n",
    "axs[1].bar(br1, sea_ann_profit[0], width = barWidth, color = 'hotpink', align='center')\n",
    "axs[1].bar(br2, sea_ann_profit[1], width = barWidth, color = 'gold', align='center')\n",
    "axs[1].legend(['Pink Cab', 'Yellow cab'])\n",
    "axs[1].set_xticks([0.0, 0.3, 0.6, 0.8999999999999999,2.0, 2.3, 2.6, 2.9], ['Q1','Q2','Q3','Q4', 'Q1','Q2','Q3','Q4'])\n",
    "axs[1].set_ylabel('% of total profit')\n",
    "\n",
    "fig.tight_layout()\n",
    "\n"
   ]
  },
  {
   "cell_type": "markdown",
   "metadata": {},
   "source": [
    "label the percentage, group by company"
   ]
  },
  {
   "cell_type": "markdown",
   "metadata": {},
   "source": [
    "## profitable days"
   ]
  },
  {
   "cell_type": "code",
   "execution_count": null,
   "metadata": {},
   "outputs": [],
   "source": []
  },
  {
   "cell_type": "markdown",
   "metadata": {},
   "source": [
    "## annual customers"
   ]
  },
  {
   "cell_type": "code",
   "execution_count": null,
   "metadata": {},
   "outputs": [],
   "source": []
  }
 ],
 "metadata": {
  "kernelspec": {
   "display_name": "Python 3.9.12 ('base')",
   "language": "python",
   "name": "python3"
  },
  "language_info": {
   "codemirror_mode": {
    "name": "ipython",
    "version": 3
   },
   "file_extension": ".py",
   "mimetype": "text/x-python",
   "name": "python",
   "nbconvert_exporter": "python",
   "pygments_lexer": "ipython3",
   "version": "3.9.12"
  },
  "orig_nbformat": 4,
  "vscode": {
   "interpreter": {
    "hash": "9b5ee51eb0458e1d2234fdd995d5addef35e2e22c2406149c18fde7df47180dd"
   }
  }
 },
 "nbformat": 4,
 "nbformat_minor": 2
}
