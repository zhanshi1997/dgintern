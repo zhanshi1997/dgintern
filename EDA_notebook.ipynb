{
 "cells": [
  {
   "cell_type": "code",
   "execution_count": 177,
   "metadata": {},
   "outputs": [],
   "source": [
    "import pandas as pd\n",
    "import datetime\n",
    "import csv\n",
    "import numpy as np\n",
    "import matplotlib.pyplot as plt\n",
    "import re"
   ]
  },
  {
   "cell_type": "markdown",
   "metadata": {},
   "source": [
    "To convert the ['Date of Travrel'] values into date format, i used this function authored by @alaudet https://gist.github.com/alaudet/307ac574973028497d083f6d43575214"
   ]
  },
  {
   "cell_type": "code",
   "execution_count": 11,
   "metadata": {},
   "outputs": [],
   "source": [
    "def date_to_string(digit_date):\n",
    "    new_form = []\n",
    "    for d in digit_date:\n",
    "        try:\n",
    "            x = datetime.date(1899,12,30) + datetime.timedelta(days=float(d))\n",
    "            new_form.append(x.strftime('%Y-%m-%d'))\n",
    "        except:\n",
    "            new_form.append('n/a')\n",
    "    return new_form"
   ]
  },
  {
   "cell_type": "markdown",
   "metadata": {},
   "source": [
    "# Import CSV data"
   ]
  },
  {
   "cell_type": "code",
   "execution_count": 12,
   "metadata": {},
   "outputs": [
    {
     "data": {
      "text/html": [
       "<div>\n",
       "<style scoped>\n",
       "    .dataframe tbody tr th:only-of-type {\n",
       "        vertical-align: middle;\n",
       "    }\n",
       "\n",
       "    .dataframe tbody tr th {\n",
       "        vertical-align: top;\n",
       "    }\n",
       "\n",
       "    .dataframe thead th {\n",
       "        text-align: right;\n",
       "    }\n",
       "</style>\n",
       "<table border=\"1\" class=\"dataframe\">\n",
       "  <thead>\n",
       "    <tr style=\"text-align: right;\">\n",
       "      <th></th>\n",
       "      <th>Transaction ID</th>\n",
       "      <th>Date of Travel</th>\n",
       "      <th>Company</th>\n",
       "      <th>City</th>\n",
       "      <th>KM Travelled</th>\n",
       "      <th>Price Charged</th>\n",
       "      <th>Cost of Trip</th>\n",
       "    </tr>\n",
       "  </thead>\n",
       "  <tbody>\n",
       "    <tr>\n",
       "      <th>0</th>\n",
       "      <td>10000011</td>\n",
       "      <td>2016-01-08</td>\n",
       "      <td>Pink Cab</td>\n",
       "      <td>ATLANTA GA</td>\n",
       "      <td>30.45</td>\n",
       "      <td>370.95</td>\n",
       "      <td>313.635</td>\n",
       "    </tr>\n",
       "    <tr>\n",
       "      <th>1</th>\n",
       "      <td>10000012</td>\n",
       "      <td>2016-01-06</td>\n",
       "      <td>Pink Cab</td>\n",
       "      <td>ATLANTA GA</td>\n",
       "      <td>28.62</td>\n",
       "      <td>358.52</td>\n",
       "      <td>334.854</td>\n",
       "    </tr>\n",
       "    <tr>\n",
       "      <th>2</th>\n",
       "      <td>10000013</td>\n",
       "      <td>2016-01-02</td>\n",
       "      <td>Pink Cab</td>\n",
       "      <td>ATLANTA GA</td>\n",
       "      <td>9.04</td>\n",
       "      <td>125.20</td>\n",
       "      <td>97.632</td>\n",
       "    </tr>\n",
       "    <tr>\n",
       "      <th>3</th>\n",
       "      <td>10000014</td>\n",
       "      <td>2016-01-07</td>\n",
       "      <td>Pink Cab</td>\n",
       "      <td>ATLANTA GA</td>\n",
       "      <td>33.17</td>\n",
       "      <td>377.40</td>\n",
       "      <td>351.602</td>\n",
       "    </tr>\n",
       "    <tr>\n",
       "      <th>4</th>\n",
       "      <td>10000015</td>\n",
       "      <td>2016-01-03</td>\n",
       "      <td>Pink Cab</td>\n",
       "      <td>ATLANTA GA</td>\n",
       "      <td>8.73</td>\n",
       "      <td>114.62</td>\n",
       "      <td>97.776</td>\n",
       "    </tr>\n",
       "  </tbody>\n",
       "</table>\n",
       "</div>"
      ],
      "text/plain": [
       "   Transaction ID Date of Travel   Company        City  KM Travelled  \\\n",
       "0        10000011     2016-01-08  Pink Cab  ATLANTA GA         30.45   \n",
       "1        10000012     2016-01-06  Pink Cab  ATLANTA GA         28.62   \n",
       "2        10000013     2016-01-02  Pink Cab  ATLANTA GA          9.04   \n",
       "3        10000014     2016-01-07  Pink Cab  ATLANTA GA         33.17   \n",
       "4        10000015     2016-01-03  Pink Cab  ATLANTA GA          8.73   \n",
       "\n",
       "   Price Charged  Cost of Trip  \n",
       "0         370.95       313.635  \n",
       "1         358.52       334.854  \n",
       "2         125.20        97.632  \n",
       "3         377.40       351.602  \n",
       "4         114.62        97.776  "
      ]
     },
     "execution_count": 12,
     "metadata": {},
     "output_type": "execute_result"
    }
   ],
   "source": [
    "cab_data = pd.read_csv('~/dg_intern/DataSets/Cab_Data.csv')\n",
    "# the date are converted here, and there's no null value.\n",
    "cab_data['Date of Travel'] = date_to_string(cab_data['Date of Travel'])\n",
    "# cab_data['Date of Travel'] = pd.to_datetime(cab_data['Date of Travel'], errors='coerce')\n",
    "cab_data.head()\n"
   ]
  },
  {
   "cell_type": "code",
   "execution_count": 13,
   "metadata": {},
   "outputs": [
    {
     "name": "stdout",
     "output_type": "stream",
     "text": [
      "The companies we are assessing are ['Pink Cab', 'Yellow Cab']\n"
     ]
    }
   ],
   "source": [
    "list = []\n",
    "# cab_data_company = pd.read_csv('~/dg_intern/DataSets/Cab_Data.csv', usecols=['Company'])\n",
    "for name in cab_data['Company']:\n",
    "    if list != []:\n",
    "        if name in list:\n",
    "            continue\n",
    "        else:\n",
    "            list.append(name)\n",
    "    elif list == []:\n",
    "        list.append(name)\n",
    "# print(list)\n",
    "print('The companies we are assessing are ' + str(list))"
   ]
  },
  {
   "cell_type": "code",
   "execution_count": 14,
   "metadata": {},
   "outputs": [
    {
     "name": "stdout",
     "output_type": "stream",
     "text": [
      "We have data collected from 20 cities in total.\n"
     ]
    },
    {
     "data": {
      "text/html": [
       "<div>\n",
       "<style scoped>\n",
       "    .dataframe tbody tr th:only-of-type {\n",
       "        vertical-align: middle;\n",
       "    }\n",
       "\n",
       "    .dataframe tbody tr th {\n",
       "        vertical-align: top;\n",
       "    }\n",
       "\n",
       "    .dataframe thead th {\n",
       "        text-align: right;\n",
       "    }\n",
       "</style>\n",
       "<table border=\"1\" class=\"dataframe\">\n",
       "  <thead>\n",
       "    <tr style=\"text-align: right;\">\n",
       "      <th></th>\n",
       "      <th>City</th>\n",
       "      <th>Population</th>\n",
       "      <th>Users</th>\n",
       "    </tr>\n",
       "  </thead>\n",
       "  <tbody>\n",
       "    <tr>\n",
       "      <th>0</th>\n",
       "      <td>NEW YORK NY</td>\n",
       "      <td>8,405,837</td>\n",
       "      <td>302,149</td>\n",
       "    </tr>\n",
       "    <tr>\n",
       "      <th>1</th>\n",
       "      <td>CHICAGO IL</td>\n",
       "      <td>1,955,130</td>\n",
       "      <td>164,468</td>\n",
       "    </tr>\n",
       "    <tr>\n",
       "      <th>2</th>\n",
       "      <td>LOS ANGELES CA</td>\n",
       "      <td>1,595,037</td>\n",
       "      <td>144,132</td>\n",
       "    </tr>\n",
       "    <tr>\n",
       "      <th>3</th>\n",
       "      <td>MIAMI FL</td>\n",
       "      <td>1,339,155</td>\n",
       "      <td>17,675</td>\n",
       "    </tr>\n",
       "    <tr>\n",
       "      <th>4</th>\n",
       "      <td>SILICON VALLEY</td>\n",
       "      <td>1,177,609</td>\n",
       "      <td>27,247</td>\n",
       "    </tr>\n",
       "  </tbody>\n",
       "</table>\n",
       "</div>"
      ],
      "text/plain": [
       "             City   Population      Users\n",
       "0     NEW YORK NY   8,405,837    302,149 \n",
       "1      CHICAGO IL   1,955,130    164,468 \n",
       "2  LOS ANGELES CA   1,595,037    144,132 \n",
       "3        MIAMI FL   1,339,155     17,675 \n",
       "4  SILICON VALLEY   1,177,609     27,247 "
      ]
     },
     "execution_count": 14,
     "metadata": {},
     "output_type": "execute_result"
    }
   ],
   "source": [
    "city = pd.read_csv('~/dg_intern/DataSets/City.csv')\n",
    "print('We have data collected from ' + str(len(city['City'])) + ' cities in total.')\n",
    "city.head()"
   ]
  },
  {
   "cell_type": "code",
   "execution_count": 15,
   "metadata": {},
   "outputs": [
    {
     "name": "stdout",
     "output_type": "stream",
     "text": [
      "       Customer ID  Gender  Age  Income (USD/Month)\n",
      "0            29290    Male   28               10813\n",
      "1            27703    Male   27                9237\n",
      "2            28712    Male   53               11242\n",
      "3            28020    Male   23               23327\n",
      "4            27182    Male   33                8536\n",
      "...            ...     ...  ...                 ...\n",
      "49166        12490    Male   33               18713\n",
      "49167        14971    Male   30               15346\n",
      "49168        41414    Male   38                3960\n",
      "49169        41677    Male   23               19454\n",
      "49170        39761  Female   32               10128\n",
      "\n",
      "[49171 rows x 4 columns]\n"
     ]
    }
   ],
   "source": [
    "customer_id = pd.read_csv('~/dg_intern/DataSets/Customer_ID.csv')\n",
    "customer_id.head()\n",
    "print(customer_id)"
   ]
  },
  {
   "cell_type": "code",
   "execution_count": 16,
   "metadata": {},
   "outputs": [
    {
     "data": {
      "text/html": [
       "<div>\n",
       "<style scoped>\n",
       "    .dataframe tbody tr th:only-of-type {\n",
       "        vertical-align: middle;\n",
       "    }\n",
       "\n",
       "    .dataframe tbody tr th {\n",
       "        vertical-align: top;\n",
       "    }\n",
       "\n",
       "    .dataframe thead th {\n",
       "        text-align: right;\n",
       "    }\n",
       "</style>\n",
       "<table border=\"1\" class=\"dataframe\">\n",
       "  <thead>\n",
       "    <tr style=\"text-align: right;\">\n",
       "      <th></th>\n",
       "      <th>Transaction ID</th>\n",
       "      <th>Customer ID</th>\n",
       "      <th>Payment_Mode</th>\n",
       "    </tr>\n",
       "  </thead>\n",
       "  <tbody>\n",
       "    <tr>\n",
       "      <th>0</th>\n",
       "      <td>10000011</td>\n",
       "      <td>29290</td>\n",
       "      <td>Card</td>\n",
       "    </tr>\n",
       "    <tr>\n",
       "      <th>1</th>\n",
       "      <td>10000012</td>\n",
       "      <td>27703</td>\n",
       "      <td>Card</td>\n",
       "    </tr>\n",
       "    <tr>\n",
       "      <th>2</th>\n",
       "      <td>10000013</td>\n",
       "      <td>28712</td>\n",
       "      <td>Cash</td>\n",
       "    </tr>\n",
       "    <tr>\n",
       "      <th>3</th>\n",
       "      <td>10000014</td>\n",
       "      <td>28020</td>\n",
       "      <td>Cash</td>\n",
       "    </tr>\n",
       "    <tr>\n",
       "      <th>4</th>\n",
       "      <td>10000015</td>\n",
       "      <td>27182</td>\n",
       "      <td>Card</td>\n",
       "    </tr>\n",
       "  </tbody>\n",
       "</table>\n",
       "</div>"
      ],
      "text/plain": [
       "   Transaction ID  Customer ID Payment_Mode\n",
       "0        10000011        29290         Card\n",
       "1        10000012        27703         Card\n",
       "2        10000013        28712         Cash\n",
       "3        10000014        28020         Cash\n",
       "4        10000015        27182         Card"
      ]
     },
     "execution_count": 16,
     "metadata": {},
     "output_type": "execute_result"
    }
   ],
   "source": [
    "transaction = pd.read_csv('~/dg_intern/DataSets/Transaction_ID.csv')\n",
    "transaction.head()"
   ]
  },
  {
   "cell_type": "markdown",
   "metadata": {},
   "source": [
    "# Establish the relational database"
   ]
  },
  {
   "cell_type": "code",
   "execution_count": 17,
   "metadata": {},
   "outputs": [
    {
     "data": {
      "text/html": [
       "<div>\n",
       "<style scoped>\n",
       "    .dataframe tbody tr th:only-of-type {\n",
       "        vertical-align: middle;\n",
       "    }\n",
       "\n",
       "    .dataframe tbody tr th {\n",
       "        vertical-align: top;\n",
       "    }\n",
       "\n",
       "    .dataframe thead th {\n",
       "        text-align: right;\n",
       "    }\n",
       "</style>\n",
       "<table border=\"1\" class=\"dataframe\">\n",
       "  <thead>\n",
       "    <tr style=\"text-align: right;\">\n",
       "      <th></th>\n",
       "      <th>Transaction ID</th>\n",
       "      <th>Date of Travel</th>\n",
       "      <th>Company</th>\n",
       "      <th>City</th>\n",
       "      <th>KM Travelled</th>\n",
       "      <th>Price Charged</th>\n",
       "      <th>Cost of Trip</th>\n",
       "      <th>Customer ID</th>\n",
       "      <th>Payment_Mode</th>\n",
       "      <th>Gender</th>\n",
       "      <th>Age</th>\n",
       "      <th>Income (USD/Month)</th>\n",
       "    </tr>\n",
       "  </thead>\n",
       "  <tbody>\n",
       "    <tr>\n",
       "      <th>0</th>\n",
       "      <td>10000011</td>\n",
       "      <td>2016-01-08</td>\n",
       "      <td>Pink Cab</td>\n",
       "      <td>ATLANTA GA</td>\n",
       "      <td>30.45</td>\n",
       "      <td>370.95</td>\n",
       "      <td>313.6350</td>\n",
       "      <td>29290</td>\n",
       "      <td>Card</td>\n",
       "      <td>Male</td>\n",
       "      <td>28</td>\n",
       "      <td>10813</td>\n",
       "    </tr>\n",
       "    <tr>\n",
       "      <th>1</th>\n",
       "      <td>10351127</td>\n",
       "      <td>2018-07-21</td>\n",
       "      <td>Yellow Cab</td>\n",
       "      <td>ATLANTA GA</td>\n",
       "      <td>26.19</td>\n",
       "      <td>598.70</td>\n",
       "      <td>317.4228</td>\n",
       "      <td>29290</td>\n",
       "      <td>Cash</td>\n",
       "      <td>Male</td>\n",
       "      <td>28</td>\n",
       "      <td>10813</td>\n",
       "    </tr>\n",
       "    <tr>\n",
       "      <th>2</th>\n",
       "      <td>10412921</td>\n",
       "      <td>2018-11-23</td>\n",
       "      <td>Yellow Cab</td>\n",
       "      <td>ATLANTA GA</td>\n",
       "      <td>42.55</td>\n",
       "      <td>792.05</td>\n",
       "      <td>597.4020</td>\n",
       "      <td>29290</td>\n",
       "      <td>Card</td>\n",
       "      <td>Male</td>\n",
       "      <td>28</td>\n",
       "      <td>10813</td>\n",
       "    </tr>\n",
       "    <tr>\n",
       "      <th>3</th>\n",
       "      <td>10000012</td>\n",
       "      <td>2016-01-06</td>\n",
       "      <td>Pink Cab</td>\n",
       "      <td>ATLANTA GA</td>\n",
       "      <td>28.62</td>\n",
       "      <td>358.52</td>\n",
       "      <td>334.8540</td>\n",
       "      <td>27703</td>\n",
       "      <td>Card</td>\n",
       "      <td>Male</td>\n",
       "      <td>27</td>\n",
       "      <td>9237</td>\n",
       "    </tr>\n",
       "    <tr>\n",
       "      <th>4</th>\n",
       "      <td>10320494</td>\n",
       "      <td>2018-04-21</td>\n",
       "      <td>Yellow Cab</td>\n",
       "      <td>ATLANTA GA</td>\n",
       "      <td>36.38</td>\n",
       "      <td>721.10</td>\n",
       "      <td>467.1192</td>\n",
       "      <td>27703</td>\n",
       "      <td>Card</td>\n",
       "      <td>Male</td>\n",
       "      <td>27</td>\n",
       "      <td>9237</td>\n",
       "    </tr>\n",
       "  </tbody>\n",
       "</table>\n",
       "</div>"
      ],
      "text/plain": [
       "   Transaction ID Date of Travel     Company        City  KM Travelled  \\\n",
       "0        10000011     2016-01-08    Pink Cab  ATLANTA GA         30.45   \n",
       "1        10351127     2018-07-21  Yellow Cab  ATLANTA GA         26.19   \n",
       "2        10412921     2018-11-23  Yellow Cab  ATLANTA GA         42.55   \n",
       "3        10000012     2016-01-06    Pink Cab  ATLANTA GA         28.62   \n",
       "4        10320494     2018-04-21  Yellow Cab  ATLANTA GA         36.38   \n",
       "\n",
       "   Price Charged  Cost of Trip  Customer ID Payment_Mode Gender  Age  \\\n",
       "0         370.95      313.6350        29290         Card   Male   28   \n",
       "1         598.70      317.4228        29290         Cash   Male   28   \n",
       "2         792.05      597.4020        29290         Card   Male   28   \n",
       "3         358.52      334.8540        27703         Card   Male   27   \n",
       "4         721.10      467.1192        27703         Card   Male   27   \n",
       "\n",
       "   Income (USD/Month)  \n",
       "0               10813  \n",
       "1               10813  \n",
       "2               10813  \n",
       "3                9237  \n",
       "4                9237  "
      ]
     },
     "execution_count": 17,
     "metadata": {},
     "output_type": "execute_result"
    }
   ],
   "source": [
    "output1 = pd.merge(cab_data, transaction, \n",
    "                   on='Transaction ID', \n",
    "                   how='inner')\n",
    "cab_trans_customer = pd.merge(output1, customer_id, \n",
    "                   on='Customer ID', \n",
    "                   how='inner')\n",
    "cab_trans_customer.head()"
   ]
  },
  {
   "cell_type": "markdown",
   "metadata": {},
   "source": [
    "# General information"
   ]
  },
  {
   "cell_type": "markdown",
   "metadata": {},
   "source": [
    "## annual profit"
   ]
  },
  {
   "cell_type": "code",
   "execution_count": 18,
   "metadata": {},
   "outputs": [],
   "source": [
    "profit_pi = [[],[],[]]\n",
    "profit_ye = [[],[],[]]\n",
    "\n",
    "# To divide data based on company\n",
    "for i, name in enumerate(cab_trans_customer['Company']):\n",
    "    a = cab_trans_customer['Price Charged'][i] - cab_trans_customer['Cost of Trip'][i]\n",
    "    if name == 'Pink Cab':\n",
    "        if cab_trans_customer['Date of Travel'][i][:4] == '2016':\n",
    "            profit_pi[0].append(a)\n",
    "        elif cab_trans_customer['Date of Travel'][i][:4] == '2017':\n",
    "            profit_pi[1].append(a)\n",
    "        elif cab_trans_customer['Date of Travel'][i][:4] == '2018':\n",
    "            profit_pi[2].append(a)\n",
    "    elif name == 'Yellow Cab':\n",
    "        if cab_trans_customer['Date of Travel'][i][:4] == '2016':\n",
    "            profit_ye[0].append(a)\n",
    "        elif cab_trans_customer['Date of Travel'][i][:4] == '2017':\n",
    "            profit_ye[1].append(a)\n",
    "        elif cab_trans_customer['Date of Travel'][i][:4] == '2018':\n",
    "            profit_ye[2].append(a)\n",
    "    else:\n",
    "        print('missing')\n",
    "        "
   ]
  },
  {
   "cell_type": "code",
   "execution_count": 19,
   "metadata": {},
   "outputs": [],
   "source": [
    "ann_profit = np.ma.zeros((2, 3)) # (company, year)\n",
    "for j in range(3):\n",
    "        ann_profit[0,j] = sum(profit_pi[j])\n",
    "        ann_profit[1,j] = sum(profit_ye[j])\n",
    "\n"
   ]
  },
  {
   "cell_type": "code",
   "execution_count": 20,
   "metadata": {},
   "outputs": [
    {
     "name": "stdout",
     "output_type": "stream",
     "text": [
      "[[ 1713511.224       2033654.90800001  1560162.18899998]\n",
      " [13926995.43159986 16575977.96800002 13517399.77119991]]\n"
     ]
    }
   ],
   "source": [
    "print(ann_profit)"
   ]
  },
  {
   "cell_type": "markdown",
   "metadata": {},
   "source": [
    "## seasonal profits"
   ]
  },
  {
   "cell_type": "code",
   "execution_count": 21,
   "metadata": {},
   "outputs": [],
   "source": [
    "profit_pi_sea = [[0]*12 for i in range(3)]\n",
    "profit_ye_sea = [[0]*12 for i in range(3)]\n",
    "profit_pi_sea_list = np.ma.zeros((3,12,31))\n",
    "profit_ye_sea_list = np.ma.zeros((3,12,31))\n",
    "total_ride_profit = np.ma.zeros((2,3,12,31))\n",
    "total_day = np.ma.zeros((2,3,12,31))\n",
    "\n",
    "# To divide data based on company\n",
    "for i, name in enumerate(cab_trans_customer['Company']):\n",
    "    a = cab_trans_customer['Price Charged'][i] - cab_trans_customer['Cost of Trip'][i]\n",
    "    mon = 10* int(cab_trans_customer['Date of Travel'][i][5]) + int(cab_trans_customer['Date of Travel'][i][6])\n",
    "    day = 10* int(cab_trans_customer['Date of Travel'][i][8]) + int(cab_trans_customer['Date of Travel'][i][9])\n",
    "    if name == 'Pink Cab':\n",
    "        profit_pi_sea[int(cab_trans_customer['Date of Travel'][i][:4]) - 2016][mon-1] += a\n",
    "        profit_pi_sea_list[int(cab_trans_customer['Date of Travel'][i][:4]) - 2016, mon - 1, day - 1] += a\n",
    "        total_day[0,int(cab_trans_customer['Date of Travel'][i][:4]) - 2016, mon - 1, day - 1] += 1\n",
    "        if a > 0:\n",
    "            total_ride_profit[0,int(cab_trans_customer['Date of Travel'][i][:4]) - 2016, mon - 1, day - 1] += 1\n",
    "            \n",
    "        \n",
    "    elif name == 'Yellow Cab':\n",
    "        profit_ye_sea[int(cab_trans_customer['Date of Travel'][i][:4]) - 2016][mon-1] += a\n",
    "        profit_ye_sea_list[int(cab_trans_customer['Date of Travel'][i][:4]) - 2016, mon - 1, day - 1] += a\n",
    "        total_day[1,int(cab_trans_customer['Date of Travel'][i][:4]) - 2016, mon - 1, day - 1] += 1\n",
    "        if a > 0:\n",
    "            total_ride_profit[1,int(cab_trans_customer['Date of Travel'][i][:4]) - 2016, mon - 1, day - 1] += 1\n",
    "    else:\n",
    "        print('missing')\n",
    "        \n"
   ]
  },
  {
   "cell_type": "code",
   "execution_count": 22,
   "metadata": {},
   "outputs": [],
   "source": [
    "sea_profit = np.ma.empty((2,3,4)) # two companies, 3 years, 4 seasons\n",
    "for j in range(3):\n",
    "    sea_profit[0,j,0] = np.sum(profit_pi_sea_list[j,:3,:])\n",
    "    sea_profit[0,j,1] = np.sum(profit_pi_sea_list[j,3:6,:])\n",
    "    sea_profit[0,j,2] = np.sum(profit_pi_sea_list[j,6:9,:])\n",
    "    sea_profit[0,j,3] = np.sum(profit_pi_sea_list[j,9:12,:])\n",
    "    \n",
    "    sea_profit[1,j,0] = np.sum(profit_ye_sea_list[j,:3,:])\n",
    "    sea_profit[1,j,1] = np.sum(profit_ye_sea_list[j,3:6,:])\n",
    "    sea_profit[1,j,2] = np.sum(profit_ye_sea_list[j,6:9,:])\n",
    "    sea_profit[1,j,3] = np.sum(profit_ye_sea_list[j,9:12,:])\n",
    "\n"
   ]
  },
  {
   "cell_type": "markdown",
   "metadata": {},
   "source": [
    "# profitable days (rides)"
   ]
  },
  {
   "cell_type": "code",
   "execution_count": 23,
   "metadata": {},
   "outputs": [],
   "source": [
    "def count_profitable_day(profit):\n",
    "    profit = np.reshape(profit, -1)\n",
    "    count = 0\n",
    "    for i in range(len(profit)):\n",
    "        if profit[i] > 0:\n",
    "            count+=1\n",
    "        else:\n",
    "            continue \n",
    "    return count"
   ]
  },
  {
   "cell_type": "code",
   "execution_count": 24,
   "metadata": {},
   "outputs": [],
   "source": [
    "def total_day(day):\n",
    "    day = np.reshape(day, -1)\n",
    "    day[day == 0] = np.nan\n",
    "    return len(day[~np.isnan(day)])"
   ]
  },
  {
   "cell_type": "code",
   "execution_count": 25,
   "metadata": {},
   "outputs": [],
   "source": [
    "profit_day = np.ma.empty((2, 3, 5)) # (company, )\n",
    "# 2016\n",
    "for j in range(3):\n",
    "        profit_day[0,j,0] = count_profitable_day(profit_pi_sea_list[j,:,:]) / total_day(profit_pi_sea_list[j,:,:])\n",
    "        profit_day[0,j,1] = count_profitable_day(profit_pi_sea_list[j,:3,:]) / total_day(profit_pi_sea_list[j,:3,:])\n",
    "        profit_day[0,j,2] = count_profitable_day(profit_pi_sea_list[j,3:6,:]) / total_day(profit_pi_sea_list[j,3:6,:])\n",
    "        profit_day[0,j,3] = count_profitable_day(profit_pi_sea_list[j,6:9,:]) / total_day(profit_pi_sea_list[j,6:9,:])\n",
    "        profit_day[0,j,4] = count_profitable_day(profit_pi_sea_list[j,9:12,:]) / total_day(profit_pi_sea_list[j,9:12,:])\n",
    "    \n",
    "        profit_day[1,j,0] = count_profitable_day(profit_ye_sea_list[j,:,:]) / total_day(profit_ye_sea_list[j,:,:])\n",
    "        profit_day[1,j,1] = count_profitable_day(profit_ye_sea_list[j,:3,:]) / total_day(profit_ye_sea_list[j,:3,:])\n",
    "        profit_day[1,j,2] = count_profitable_day(profit_ye_sea_list[j,3:6,:]) / total_day(profit_ye_sea_list[j,3:6,:])\n",
    "        profit_day[1,j,3] = count_profitable_day(profit_ye_sea_list[j,6:9,:]) / total_day(profit_ye_sea_list[j,6:9,:])\n",
    "        profit_day[1,j,4] = count_profitable_day(profit_ye_sea_list[j,9:12,:]) / total_day(profit_ye_sea_list[j,9:12,:])\n"
   ]
  },
  {
   "cell_type": "markdown",
   "metadata": {},
   "source": [
    "# problem point: we haven't talked about the portion of the profit day"
   ]
  },
  {
   "cell_type": "markdown",
   "metadata": {},
   "source": [
    "## portion of total seasonal profits/ total profits over the years"
   ]
  },
  {
   "cell_type": "code",
   "execution_count": 26,
   "metadata": {},
   "outputs": [],
   "source": [
    "sea_ann_profit = np.ma.empty((2, 4))\n",
    "for i in range(2):\n",
    "    for sea in range(4):\n",
    "        sum_ann_profit = sum(ann_profit[i, :]) #(company, year)\n",
    "        sum_sea_profit = sum(sea_profit[i, :, sea]) #(company, year, season)\n",
    "        sea_ann_profit[i, sea] = sum_sea_profit / sum_ann_profit\n",
    "        sea_ann_profit[i, sea] = round(sea_ann_profit[i, sea],3)\n",
    "        "
   ]
  },
  {
   "cell_type": "markdown",
   "metadata": {},
   "source": [
    "## portion of seasonal profits of each year: seasonal profit each year / total profit each year"
   ]
  },
  {
   "cell_type": "code",
   "execution_count": 27,
   "metadata": {},
   "outputs": [],
   "source": [
    "sea_profit_annpor = np.ma.empty((2, 3, 4))\n",
    "for i in range(2):\n",
    "    for iyear in range(3):\n",
    "        for k in range(4):\n",
    "            sea_profit_annpor[i, iyear, k] = sea_profit[i, iyear, k] / ann_profit[i,iyear]\n",
    "            sea_profit_annpor[i, iyear, k] = \"{:.2f}\".format(sea_profit_annpor[i, iyear, k])\n",
    "            "
   ]
  },
  {
   "cell_type": "markdown",
   "metadata": {},
   "source": [
    "## plots"
   ]
  },
  {
   "cell_type": "code",
   "execution_count": 29,
   "metadata": {},
   "outputs": [
    {
     "data": {
      "image/png": "[encoded data removed]",
      "text/plain": [
       "<Figure size 576x432 with 2 Axes>"
      ]
     },
     "metadata": {
      "needs_background": "light"
     },
     "output_type": "display_data"
    }
   ],
   "source": [
    "barWidth = 0.3\n",
    "br1 = np.arange(3)\n",
    "br2 = [x + barWidth for x in br1]\n",
    "fig, axs = plt.subplots(nrows=1,ncols=2, figsize= (8,6))\n",
    "fig.suptitle('Annual and Seasonal Profits from 2016 to 2018')\n",
    "axs[0].bar(br1, ann_profit[0], width = barWidth, color = 'hotpink', align='center', edgecolor ='grey')\n",
    "axs[0].bar(br2, ann_profit[1], width = barWidth, color = 'gold', align='center', edgecolor ='grey')\n",
    "axs[0].legend(['Pink Cab', 'Yellow cab'])\n",
    "axs[0].set_xticks([r + 0.5*barWidth for r in range(3)], ['2016','2017','2018'])\n",
    "axs[0].set_yticks(np.arange(0.0e7,2.0e7,0.2e7))\n",
    "axs[0].set_yticklabels(['0', '20', '40', '60', '80', '100', '120', '140', '160','180'])\n",
    "axs[0].set_ylabel('annual profit (Million USD)')\n",
    "\n",
    "# sea_ann_profit\n",
    "b1 = np.arange(4)\n",
    "br1 = [x*barWidth for x in b1]\n",
    "br2 = [2 + x*barWidth for x in b1]\n",
    "\n",
    "pi_sea = axs[1].bar(br1, sea_ann_profit[0], width = barWidth, color = 'hotpink', align='center', label = 'Pink Cab', edgecolor ='grey')\n",
    "ye_sea = axs[1].bar(br2, sea_ann_profit[1], width = barWidth, color = 'gold', align='center', label = 'Yellow Cab', edgecolor ='grey')\n",
    "axs[1].legend(['Pink Cab', 'Yellow cab'])\n",
    "axs[1].set_xticks([0.0, 0.3, 0.6, 0.8999999999999999,2.0, 2.3, 2.6, 2.9], ['Q1','Q2','Q3','Q4', 'Q1','Q2','Q3','Q4'])\n",
    "axs[1].set_yticks(np.arange(0,0.6,0.1),[0, 10, 20, 30, 40, 50])\n",
    "axs[1].set_ylabel('% of total profit')\n",
    "\n",
    "# # Label with label_type the default 'edge'\n",
    "axs[1].bar_label(pi_sea,labels=[str(100*sea_ann_profit[0][0])+'%',str(100*sea_ann_profit[0][1])+'%',str(100*sea_ann_profit[0][2])+'%',str(100*sea_ann_profit[0][3])+'%'])\n",
    "axs[1].bar_label(ye_sea,labels=[str(100*sea_ann_profit[1][0])+'%',str(100*sea_ann_profit[0][1])+'%',str(100*sea_ann_profit[0][2])+'%',str(100*sea_ann_profit[0][3])+'%'])\n",
    "fig.tight_layout()\n",
    "\n"
   ]
  },
  {
   "cell_type": "code",
   "execution_count": 30,
   "metadata": {},
   "outputs": [
    {
     "data": {
      "image/png": "[encoded data removed]",
      "text/plain": [
       "<Figure size 576x432 with 3 Axes>"
      ]
     },
     "metadata": {
      "needs_background": "light"
     },
     "output_type": "display_data"
    }
   ],
   "source": [
    "barWidth = 0.3\n",
    "br1 = np.arange(4)\n",
    "br2 = [x + barWidth for x in br1]\n",
    "\n",
    "fig, axs = plt.subplots(3,1, sharex=True, figsize= (8,6))\n",
    "\n",
    "# fig, axs = plt.subplots(nrows=1,ncols=2, figsize= (8,6))\n",
    "fig.suptitle('Seasonal Profits from 2016 to 2018')\n",
    "\n",
    "pi_q1 = axs[0].bar(br1, sea_profit_annpor[0,0,:], width = barWidth, color = 'hotpink', align='center', edgecolor ='grey')\n",
    "ye_q1 = axs[0].bar(br2, sea_profit_annpor[1,0,:], width = barWidth, color = 'gold', align='center', edgecolor ='grey')\n",
    "axs[0].bar_label(pi_q1,labels=[str(100*sea_profit_annpor[0,0,0])+'%',str(100*sea_profit_annpor[0,0,1])+'%',str(100*sea_profit_annpor[0,0,2])+'%',str(100*sea_profit_annpor[0,0,3])+'%'])\n",
    "axs[0].bar_label(ye_q1,labels=[str(100*sea_profit_annpor[1,0,0])+'%',str(100*sea_profit_annpor[1,0,1])+'%',str(100*sea_profit_annpor[1,0,2])+'%',str(100*sea_profit_annpor[1,0,3])+'%'])\n",
    "axs[0].legend(['Pink Cab', 'Yellow cab'])\n",
    "axs[0].set_title('2016')\n",
    "axs[0].set_xticks([r + 0.5*barWidth for r in range(4)], ['Q1','Q2','Q3','Q4'])\n",
    "axs[0].set_yticks(np.arange(0,0.7,0.1),[0, 10, 20, 30, 40, 50, 60])\n",
    "axs[0].set_ylabel('% of total profit')\n",
    "\n",
    "pi_q2 = axs[1].bar(br1, sea_profit_annpor[0,1,:], width = barWidth, color = 'hotpink', align='center', edgecolor ='grey')\n",
    "ye_q2 = axs[1].bar(br2, sea_profit_annpor[1,1,:], width = barWidth, color = 'gold', align='center', edgecolor ='grey')\n",
    "axs[1].bar_label(pi_q2,labels=[str(100*sea_profit_annpor[0,1,0])+'%',str(100*sea_profit_annpor[0,1,1])+'%',str(100*sea_profit_annpor[0,1,2])+'%',str(100*sea_profit_annpor[0,1,3])+'%'])\n",
    "axs[1].bar_label(ye_q2,labels=[str(100*sea_profit_annpor[1,1,0])+'%',str(100*sea_profit_annpor[1,1,1])+'%',str(100*sea_profit_annpor[1,1,2])+'%',str(100*sea_profit_annpor[1,1,3])+'%'])\n",
    "axs[1].legend(['Pink Cab', 'Yellow cab'])\n",
    "axs[1].set_title('2017')\n",
    "axs[1].set_xticks([r + 0.5*barWidth for r in range(4)], ['Q1','Q2','Q3','Q4'])\n",
    "axs[1].set_yticks(np.arange(0,0.7,0.1),[0, 10, 20, 30, 40, 50, 60])\n",
    "axs[1].set_ylabel('% of total profit')\n",
    "\n",
    "axs[2].bar(br1, sea_profit_annpor[0,2,:], width = barWidth, color = 'hotpink', align='center', edgecolor ='grey')\n",
    "axs[2].bar(br2, sea_profit_annpor[1,2,:], width = barWidth, color = 'gold', align='center', edgecolor ='grey')\n",
    "axs[2].bar_label(pi_q1,labels=[str(100*sea_profit_annpor[0,2,0])+'%',str(100*sea_profit_annpor[0,2,1])+'%',str(100*sea_profit_annpor[0,2,2])+'%',str(100*sea_profit_annpor[0,2,3])+'%'])\n",
    "axs[2].bar_label(ye_q1,labels=[str(100*sea_profit_annpor[1,2,0])+'%',str(100*sea_profit_annpor[1,2,1])+'%',str(100*sea_profit_annpor[1,2,2])+'%',str(100*sea_profit_annpor[1,2,3])+'%'])\n",
    "axs[2].legend(['Pink Cab', 'Yellow cab'])\n",
    "axs[2].set_title('2018')\n",
    "axs[2].set_xticks([r + 0.5*barWidth for r in range(4)], ['Q1','Q2','Q3','Q4'])\n",
    "axs[2].set_yticks(np.arange(0,0.7,0.1),[0, 10, 20, 30, 40, 50, 60])\n",
    "axs[2].set_ylabel('% of total profit')\n",
    "\n",
    "fig.tight_layout()\n"
   ]
  },
  {
   "cell_type": "markdown",
   "metadata": {},
   "source": [
    "# profits per ride"
   ]
  },
  {
   "cell_type": "code",
   "execution_count": null,
   "metadata": {},
   "outputs": [],
   "source": []
  },
  {
   "cell_type": "markdown",
   "metadata": {},
   "source": [
    "# profit and rides on holiday"
   ]
  },
  {
   "cell_type": "code",
   "execution_count": 229,
   "metadata": {},
   "outputs": [
    {
     "name": "stdout",
     "output_type": "stream",
     "text": [
      "          Date                              Holiday\n",
      "0   12/25/2015                        Christmas Day\n",
      "1     1/1/2016                       New Year's Day\n",
      "2    1/18/2016  Birthday of Martin Luther King, Jr.\n",
      "3    2/15/2016                Washington's Birthday\n",
      "4    5/30/2016                         Memorial Day\n",
      "5     7/4/2016                     Independence Day\n",
      "6     9/5/2016                            Labor Day\n",
      "7   10/10/2016                         Columbus Day\n",
      "8   11/11/2016                         Veterans Day\n",
      "9   11/24/2016                     Thanksgiving Day\n",
      "10  12/26/2016                        Christmas Day\n",
      "11    1/2/2017                       New Year's Day\n",
      "12   1/16/2017  Birthday of Martin Luther King, Jr.\n",
      "13   2/20/2017                Washington's Birthday\n",
      "14   5/29/2017                         Memorial Day\n",
      "15    7/4/2017                     Independence Day\n",
      "16    9/4/2017                            Labor Day\n",
      "17   10/9/2017                         Columbus Day\n",
      "18  11/10/2017                         Veterans Day\n",
      "19  11/23/2017                     Thanksgiving Day\n",
      "20  12/25/2017                        Christmas Day\n",
      "21    1/1/2018                       New Year's Day\n",
      "22   1/15/2018  Birthday of Martin Luther King, Jr.\n",
      "23   2/19/2018                Washington's Birthday\n",
      "24   5/28/2018                         Memorial Day\n",
      "25    7/4/2018                     Independence Day\n",
      "26    9/3/2018                            Labor Day\n",
      "27   10/8/2018                         Columbus Day\n",
      "28  11/12/2018                         Veterans Day\n",
      "29  11/22/2018                     Thanksgiving Day\n"
     ]
    }
   ],
   "source": [
    "holiday = pd.read_csv('~/dg_intern/DataSets/us_federal_holidays_2011_2020.csv', skiprows = 50, names = ['Date', 'Holiday'], nrows = 30)\n",
    "# holiday.head()\n",
    "# holiday.iloc[50:60]\n",
    "print(holiday)"
   ]
  },
  {
   "cell_type": "code",
   "execution_count": 234,
   "metadata": {},
   "outputs": [
    {
     "name": "stdout",
     "output_type": "stream",
     "text": [
      "['Labor Day', 'Christmas Day', 'Independence Day', 'Columbus Day', 'Veterans Day', 'Birthday of Martin Luther King, Jr.', \"New Year's Day\", 'Thanksgiving Day', \"Washington's Birthday\", 'Memorial Day']\n"
     ]
    }
   ],
   "source": [
    "b = set(holiday['Holiday'])\n",
    "holiday_list = []\n",
    "for name in b:\n",
    "    holiday_list.append(name)\n",
    "print(holiday_list)"
   ]
  },
  {
   "cell_type": "code",
   "execution_count": 236,
   "metadata": {},
   "outputs": [],
   "source": [
    "# 10 holidays in total, to compare, the last one should be averaged over none-holiday values\n",
    "# (company, 10 holidays + 1 non-holidays)\n",
    "holiday_rides = np.ma.zeros((2, 3, 11)) \n",
    "holiday_profits = np.ma.zeros((2, 3, 11))\n",
    "days = [0,0,0]\n",
    "for i in range(len(holiday['Date'])):\n",
    "    holiday_date = holiday['Date'][i]\n",
    "    holiday_date_list = re.split(r'/', holiday_date)\n",
    "    for j in range(len(cab_trans_customer['Date of Travel'])):\n",
    "        date = cab_trans_customer['Date of Travel'][j]\n",
    "        mon = 10* int(date[5]) + int(date[6])\n",
    "        day = 10* int(date[8]) + int(date[9])\n",
    "        if cab_trans_customer['Company'][j] == 'Pink Cab':\n",
    "            cab = 0\n",
    "        elif cab_trans_customer['Company'][j] == 'Yellow Cab':\n",
    "            cab = 1\n",
    "            \n",
    "        if (holiday_date_list[2] == date[:4]) and (int(holiday_date_list[0]) == mon) and (int(holiday_date_list[1]) == day):\n",
    "            # identify the holiday\n",
    "            holiday_label = holiday['Holiday'][i]\n",
    "            # identify the index\n",
    "            holiday_index = holiday_list.index(holiday_label)\n",
    "            # count\n",
    "            holiday_rides[cab, int(date[:4]) - 2016, holiday_index] +=1\n",
    "            holiday_profits[cab, int(date[:4]) - 2016, holiday_index] += cab_trans_customer['Price Charged'][j] - cab_trans_customer['Cost of Trip'][j]\n",
    "        else:\n",
    "            if j == 0:\n",
    "                days[int(date[:4]) - 2016] += 1\n",
    "            ### need to count the days here too, to compare averaged normal day and holiday\n",
    "            elif cab_trans_customer['Date of Travel'][j-1] != date:\n",
    "                days[int(date[:4]) - 2016] +=1\n",
    "            # holiday_rides[cab, 10] / sum(days)\n",
    "            holiday_rides[cab,int(date[:4]) - 2016, 10] +=1 # total rides\n",
    "            holiday_profits[cab, int(date[:4]) - 2016, 10] += cab_trans_customer['Price Charged'][j] - cab_trans_customer['Cost of Trip'][j]"
   ]
  },
  {
   "cell_type": "code",
   "execution_count": null,
   "metadata": {},
   "outputs": [],
   "source": [
    "holiday_rides[:,:, 10] = holiday_rides[:, 10]/days\n",
    "holiday_rides[:,:10] = holiday_rides[:, :10]/3 \n",
    "holiday_profits[:,:, 10] = holiday_profits[:, 10]/days\n",
    "holiday_profits[:,:10] = holiday_profits[:, :10]/3 "
   ]
  },
  {
   "cell_type": "markdown",
   "metadata": {},
   "source": [
    "# Problem point: above!!"
   ]
  },
  {
   "cell_type": "markdown",
   "metadata": {},
   "source": [
    "# city-wise customers"
   ]
  },
  {
   "cell_type": "code",
   "execution_count": 32,
   "metadata": {},
   "outputs": [],
   "source": [
    "def extract_number(number): # number in the format of ' ' with comma and space.\n",
    "    number = number.strip()\n",
    "    count = len(number) //4\n",
    "    t = 0\n",
    "    sum = 0\n",
    "    for i, v in enumerate(number):\n",
    "        if v == ',':\n",
    "            continue\n",
    "        else:\n",
    "            sum += int(v) * (10**(len(number) - 1 - count - t))\n",
    "            t += 1  \n",
    "    return sum"
   ]
  },
  {
   "cell_type": "markdown",
   "metadata": {},
   "source": [
    "check if there's redundent redord"
   ]
  },
  {
   "cell_type": "code",
   "execution_count": 33,
   "metadata": {},
   "outputs": [
    {
     "name": "stdout",
     "output_type": "stream",
     "text": [
      "index 14: SAN FRANCISCO CA is not in the record.\n",
      "The cities where customers of two cab services cover are listed here: ['NEW YORK NY', 'CHICAGO IL', 'LOS ANGELES CA', 'MIAMI FL', 'SILICON VALLEY', 'ORANGE COUNTY', 'SAN DIEGO CA', 'PHOENIX AZ', 'DALLAS TX', 'ATLANTA GA', 'DENVER CO', 'AUSTIN TX', 'SEATTLE WA', 'TUCSON AZ', 'SACRAMENTO CA', 'PITTSBURGH PA', 'WASHINGTON DC', 'NASHVILLE TN', 'BOSTON MA']\n"
     ]
    }
   ],
   "source": [
    "a = set(cab_trans_customer['City'])\n",
    "city_name_list = [] # collect the list of city where there're customers\n",
    "for name in city['City']:\n",
    "    if name in a:\n",
    "        if name in city_name_list:\n",
    "            continue\n",
    "        else:\n",
    "            city_name_list.append(name)\n",
    "        continue\n",
    "    else:\n",
    "        print('index 14: ' + name + ' is not in the record.')\n",
    "print('The cities where customers of two cab services cover are listed here: ' + str(city_name_list))"
   ]
  },
  {
   "cell_type": "code",
   "execution_count": 34,
   "metadata": {},
   "outputs": [],
   "source": [
    "# user portion\n",
    "city_wise_user = np.ma.empty((20))\n",
    "for i, city_name in enumerate(city['City']):\n",
    "    city_wise_user[i] = extract_number(city['Users'][i]) / extract_number(city['Population'][i])\n"
   ]
  },
  {
   "cell_type": "code",
   "execution_count": 123,
   "metadata": {},
   "outputs": [],
   "source": [
    "\n",
    "city_wise_customer = np.ma.zeros((2, 3, 19))\n",
    "customer_name_list = [[],[]]\n",
    "for i in range(len(cab_trans_customer['City'])):\n",
    "    if cab_trans_customer['Company'][i] == 'Pink Cab':\n",
    "        cab = 0\n",
    "    elif cab_trans_customer['Company'][i] == 'Yellow Cab':\n",
    "        cab = 1\n",
    "        \n",
    "    if cab_trans_customer['Customer ID'][i] in customer_name_list[cab]:\n",
    "        continue\n",
    "    else:\n",
    "        index = city_name_list.index(cab_trans_customer['City'][i])\n",
    "        city_wise_customer[cab,int(cab_trans_customer['Date of Travel'][i][:4]) - 2016, index] += 1\n",
    "        customer_name_list[cab].append(cab_trans_customer['Customer ID'][i])  \n",
    "            \n",
    "                "
   ]
  },
  {
   "cell_type": "code",
   "execution_count": 36,
   "metadata": {},
   "outputs": [
    {
     "name": "stdout",
     "output_type": "stream",
     "text": [
      "16 PITTSBURGH PA\n",
      "number of customers 5109.0\n",
      "number of customers of pink 2109.0\n",
      "number of customers of yellow 3000.0\n",
      "users  3,643 \n"
     ]
    }
   ],
   "source": [
    "# check if the number is within the range\n",
    "for i in range(19):\n",
    "    if sum(city_wise_customer[0,:,i])+sum(city_wise_customer[1,:,i]) > extract_number(city['Users'][i]):\n",
    "        print(i, city['City'][i])\n",
    "        print('number of customers',sum(city_wise_customer[0,:,i])+sum(city_wise_customer[1,:,i]))\n",
    "        print('number of customers of pink',sum(city_wise_customer[0,:,i]))\n",
    "        print('number of customers of yellow', sum(city_wise_customer[1,:,i]))\n",
    "        print('users',city['Users'][i])\n",
    "    if sum(city_wise_customer[0,:,i])+sum(city_wise_customer[1,:,i]) > extract_number(city['Population'][i]):\n",
    "        print('error!!')\n",
    "    "
   ]
  },
  {
   "cell_type": "markdown",
   "metadata": {},
   "source": [
    "## portion of the customers in different service and city"
   ]
  },
  {
   "cell_type": "code",
   "execution_count": 37,
   "metadata": {},
   "outputs": [],
   "source": [
    "city_wise_customer_portion = np.ma.zeros((2, 3, 19))\n",
    "for i in range(2):\n",
    "    for j in range(3):\n",
    "        for k in range(19):\n",
    "            city_wise_customer_portion[i, j, k] = city_wise_customer[i, j, k] / sum(city_wise_customer[:, j, k])\n",
    "            city_wise_customer_portion[i, j, k] = round(city_wise_customer_portion[i, j, k],3)\n",
    "\n"
   ]
  },
  {
   "cell_type": "markdown",
   "metadata": {},
   "source": [
    "## plots"
   ]
  },
  {
   "cell_type": "code",
   "execution_count": 153,
   "metadata": {},
   "outputs": [
    {
     "name": "stderr",
     "output_type": "stream",
     "text": [
      "/var/folders/md/twjjy3517bx9b44nk_x7wtbm0000gn/T/ipykernel_25344/3184191656.py:16: UserWarning: Matplotlib is currently using module://matplotlib_inline.backend_inline, which is a non-GUI backend, so cannot show the figure.\n",
      "  fig.show()\n"
     ]
    },
    {
     "data": {
      "image/png": "[encoded data removed]",
      "text/plain": [
       "<Figure size 576x864 with 3 Axes>"
      ]
     },
     "metadata": {
      "needs_background": "light"
     },
     "output_type": "display_data"
    }
   ],
   "source": [
    "barWidth = 0.8\n",
    "br1 = np.arange(19)\n",
    "fig, ax = plt.subplots(nrows=3,ncols=1, figsize= (8,12), sharex = True)\n",
    "for i in range(3):\n",
    "       ye_no = ax[i].bar(br1, 100*city_wise_customer_portion[1, i,:], barWidth, label = 'Yellow Cab', color = 'gold')\n",
    "       pi_no = ax[i].bar(br1, 100*city_wise_customer_portion[0, i,:], barWidth, bottom = 100*city_wise_customer_portion[1, i],\n",
    "              label='Pink Cab', color = 'hotpink')\n",
    "       # ax[i].legend(['Pink Cab', 'Yellow cab'])\n",
    "       ax[i].set_title(str(2016+i))\n",
    "       ax[i].set_xticks(np.arange(19),labels = city_name_list, rotation = 90)\n",
    "       ax[i].set_yticks(np.arange(0,100,10))\n",
    "       ax[i].set_ylabel('% of city-wise customers')\n",
    "ax[0].set_xticks(np.arange(19),labels = city_name_list, rotation = 90)\n",
    "ax[0].legend(['Yellow Cab', 'Pink cab'])\n",
    "fig.tight_layout()\n",
    "fig.show()\n"
   ]
  },
  {
   "cell_type": "markdown",
   "metadata": {},
   "source": [
    "need to range from large to small portion"
   ]
  },
  {
   "cell_type": "code",
   "execution_count": 207,
   "metadata": {},
   "outputs": [],
   "source": [
    "def bubbleSort(arr):\n",
    "    n = len(arr)\n",
    "    index = np.arange(n)\n",
    "    for i in range(n):\n",
    "        for j in range(0, n-i-1):\n",
    "            if arr[j] > arr[j+1] :\n",
    "                arr[j], arr[j+1] = arr[j+1], arr[j]\n",
    "                index[j], index[j+1] = index[j+1], index[j]\n",
    "    return arr, index"
   ]
  },
  {
   "cell_type": "code",
   "execution_count": 208,
   "metadata": {},
   "outputs": [],
   "source": [
    "city_wise_customer_sum = np.sum(city_wise_customer[1], axis = 0) + np.sum(city_wise_customer[0], axis = 0)\n",
    "# print(len(city_wise_customer_sum))\n",
    "city_wise_customer_sum, index_list = bubbleSort(city_wise_customer_sum)\n",
    "a = np.sum(city_wise_customer[1], axis = 0)\n",
    "b = np.sum(city_wise_customer[0], axis = 0)"
   ]
  },
  {
   "cell_type": "code",
   "execution_count": 171,
   "metadata": {},
   "outputs": [
    {
     "data": {
      "image/png": "[encoded data removed]",
      "text/plain": [
       "<Figure size 576x360 with 1 Axes>"
      ]
     },
     "metadata": {
      "needs_background": "light"
     },
     "output_type": "display_data"
    }
   ],
   "source": [
    "barWidth = 0.8\n",
    "br1 = np.arange(19)\n",
    "fig, ax = plt.subplots(nrows=1,ncols=1, figsize= (8,5), sharex = True)\n",
    "\n",
    "ye_cu = ax.bar(br1, [a[i] for i in index_list[::-1]], barWidth, label = 'Yellow Cab', color = 'gold')\n",
    "pi_cu = ax.bar(br1, [b[i] for i in index_list[::-1]], barWidth, bottom = [a[i] for i in index_list[::-1]], label='Pink Cab', color = 'hotpink')\n",
    "ax.bar_label(ye_cu,label_type='center')\n",
    "ax.bar_label(pi_cu,label_type='center')\n",
    "# ax[i].legend(['Pink Cab', 'Yellow cab'])\n",
    "ax.set_xticks(np.arange(19),labels = [city_name_list[i] for i in index_list], rotation = 90)\n",
    "# ax.set_yticks(np.arange(0,120000,20000), ['0', '20k', '40k', '60k', '80k', '100k'])\n",
    "ax.set_ylabel('Number of city-wise customers')\n",
    "ax.legend(['Yellow Cab', 'Pink cab'])\n",
    "fig.tight_layout()"
   ]
  },
  {
   "cell_type": "markdown",
   "metadata": {},
   "source": [
    "# customer's retention"
   ]
  },
  {
   "cell_type": "markdown",
   "metadata": {},
   "source": [
    "defined as the number of customers who used the cab service more than average rides "
   ]
  },
  {
   "cell_type": "code",
   "execution_count": 40,
   "metadata": {},
   "outputs": [],
   "source": [
    "a = set(cab_trans_customer['Customer ID']) # to make the names in order\n",
    "customer_list = []\n",
    "for id in customer_id['Customer ID']:\n",
    "    if id in a:\n",
    "        if id in customer_list:\n",
    "            continue\n",
    "        else:\n",
    "            customer_list.append(id)\n",
    "        continue"
   ]
  },
  {
   "cell_type": "markdown",
   "metadata": {},
   "source": [
    "## retention compared to the mean"
   ]
  },
  {
   "cell_type": "code",
   "execution_count": 51,
   "metadata": {},
   "outputs": [],
   "source": [
    "# count the number of each customer id and the cab service they used each year\n",
    "count = np.ma.zeros((len(customer_list), 2,3))\n",
    "for i in range(len(cab_trans_customer['Customer ID'])):\n",
    "    index = customer_list.index(cab_trans_customer['Customer ID'][i])\n",
    "    if cab_trans_customer['Company'][i] == 'Pink Cab':\n",
    "        cab = 0\n",
    "    else:\n",
    "        cab = 1\n",
    "    count[index,cab, int(cab_trans_customer['Date of Travel'][i][:4]) - 2016] +=1"
   ]
  },
  {
   "cell_type": "code",
   "execution_count": 146,
   "metadata": {},
   "outputs": [],
   "source": [
    "customer_retention = np.ma.empty((2,3))\n",
    "for i in range(len(customer_list)):\n",
    "    for j in range(3):\n",
    "        if count[i, 0, j] >= np.mean(count[:,0,j], axis = 0):\n",
    "            customer_retention[0,j] += 1\n",
    "        if count[i, 1, j] >= np.mean(count[:,1,j], axis = 0):\n",
    "            customer_retention[1,j] += 1 "
   ]
  },
  {
   "cell_type": "code",
   "execution_count": 147,
   "metadata": {},
   "outputs": [
    {
     "name": "stdout",
     "output_type": "stream",
     "text": [
      "[[0.5153417878131766 0.5766470770182494 0.5691308382307454]\n",
      " [0.3889612993783838 0.31724984960898334 0.30915379987968716]]\n"
     ]
    }
   ],
   "source": [
    "customer_retention_ratio = np.ma.empty((2,3))\n",
    "for i in range(2):\n",
    "    customer_retention_ratio[i,:] = customer_retention[i,:]/len(customer_name_list[i])\n",
    "print(customer_retention_ratio)"
   ]
  },
  {
   "cell_type": "code",
   "execution_count": null,
   "metadata": {},
   "outputs": [
    {
     "name": "stdout",
     "output_type": "stream",
     "text": [
      "The average rides taken by the customers in Pink Cab in 2016\n",
      "0.5434688393863223\n",
      "The average rides taken by the customers in Yellow Cab in 2016\n",
      "1.7820707289590014\n",
      "The average rides taken by the customers in Pink Cab in 2017\n",
      "0.6570382248418133\n",
      "The average rides taken by the customers in Yellow Cab in 2017\n",
      "2.1276978417266186\n",
      "The average rides taken by the customers in Pink Cab in 2018\n",
      "0.6351304498569819\n",
      "The average rides taken by the customers in Yellow Cab in 2018\n",
      "2.042407038224842\n"
     ]
    }
   ],
   "source": [
    "for j in range(3):\n",
    "    print('The average rides taken by the customers in Pink Cab in ' + str(2016+j) + '\\n' + str(np.mean(count[:,0,j], axis = 0)))\n",
    "    print('The average rides taken by the customers in Yellow Cab in ' + str(2016+j) + '\\n' +str(np.mean(count[:,1,j], axis = 0)))"
   ]
  },
  {
   "cell_type": "markdown",
   "metadata": {},
   "source": [
    "## plot"
   ]
  },
  {
   "cell_type": "code",
   "execution_count": 149,
   "metadata": {},
   "outputs": [
    {
     "data": {
      "text/plain": [
       "Text(0, 0.5, 'Number of customers')"
      ]
     },
     "execution_count": 149,
     "metadata": {},
     "output_type": "execute_result"
    },
    {
     "data": {
      "image/png": "[encoded data removed]",
      "text/plain": [
       "<Figure size 576x432 with 2 Axes>"
      ]
     },
     "metadata": {
      "needs_background": "light"
     },
     "output_type": "display_data"
    }
   ],
   "source": [
    "barWidth = 0.3\n",
    "br1 = np.arange(3)\n",
    "br2 = [x + barWidth for x in br1]\n",
    "fig, axs = plt.subplots(nrows=2,ncols=1, figsize= (8,6))\n",
    "fig.suptitle('Customer Retention Rate from 2016 to 2018\\n (over average rides)')\n",
    "\n",
    "pi_q = axs[0].bar(br1, customer_retention_ratio[0,:], width = barWidth, color = 'hotpink', align='center', edgecolor ='grey')\n",
    "ye_q = axs[0].bar(br2, customer_retention_ratio[1,:], width = barWidth, color = 'gold', align='center', edgecolor ='grey')\n",
    "axs[0].bar_label(pi_q,labels=[str(round(100*customer_retention_ratio[0,0],1))+'%',str(round(100*customer_retention_ratio[0,1],1))+'%',str(round(100*customer_retention_ratio[0,2],1))+'%'])\n",
    "axs[0].bar_label(ye_q,labels=[str(round(100*customer_retention_ratio[1,0],1))+'%',str(round(100*customer_retention_ratio[1,1],1))+'%',str(round(100*customer_retention_ratio[1,2],1))+'%'])\n",
    "axs[0].legend(['Pink Cab', 'Yellow cab'])\n",
    "axs[0].set_xticks([r + 0.5*barWidth for r in range(3)], ['2016','2017','2018'])\n",
    "axs[0].set_yticks(np.arange(0,1.2,0.2),['0', '20', '40', '60', '80', '100'])\n",
    "axs[0].set_ylabel('% of total customers')\n",
    "\n",
    "axs[1].plot(np.arange(2016, 2019), customer_retention[0,:], color = 'hotpink')\n",
    "axs[1].plot(np.arange(2016, 2019), customer_retention[1,:], color = 'gold')\n",
    "axs[1].legend(['Pink Cab', 'Yellow cab'])\n",
    "axs[1].set_xticks(np.arange(2016, 2019), ['2016','2017','2018'])\n",
    "axs[1].set_yticks(np.arange(10e3,22e3, 2e3))\n",
    "axs[1].set_yticklabels(['10k', '12k', '14k', '16k', '18k', '20k'])\n",
    "axs[1].set_ylabel('Number of customers')"
   ]
  },
  {
   "cell_type": "markdown",
   "metadata": {},
   "source": [
    "## retention compared to 5"
   ]
  },
  {
   "cell_type": "code",
   "execution_count": 140,
   "metadata": {},
   "outputs": [],
   "source": [
    "customer_retention = np.ma.empty((2,3))\n",
    "for i in range(len(customer_list)):\n",
    "    for j in range(3):\n",
    "        # print('The average rides taken by the customers in Pink Cab: ' + str(np.mean(count[:,0,j], axis = 0)))\n",
    "        # print('The average rides taken by the customers in Yellow Cab: ' + str(np.mean(count[:,1,j], axis = 0)))\n",
    "        if count[i, 0, j] >= 5:\n",
    "            customer_retention[0,j] += 1 \n",
    "        if count[i, 1, j] >= 5:\n",
    "            customer_retention[1,j] += 1 "
   ]
  },
  {
   "cell_type": "code",
   "execution_count": 141,
   "metadata": {},
   "outputs": [
    {
     "name": "stdout",
     "output_type": "stream",
     "text": [
      "[[0.0062171357871945564 0.012155892360037118 0.010392824002474483]\n",
      " [0.15670743934228995 0.19463104070583517 0.18475536394626027]]\n"
     ]
    }
   ],
   "source": [
    "customer_retention_ratio = np.ma.empty((2,3))\n",
    "for i in range(2):\n",
    "    customer_retention_ratio[i,:] = customer_retention[i,:]/len(customer_name_list[i])\n",
    "print(customer_retention_ratio)"
   ]
  },
  {
   "cell_type": "markdown",
   "metadata": {},
   "source": [
    "## plot"
   ]
  },
  {
   "cell_type": "code",
   "execution_count": 145,
   "metadata": {},
   "outputs": [
    {
     "data": {
      "text/plain": [
       "Text(0, 0.5, 'Number of customers')"
      ]
     },
     "execution_count": 145,
     "metadata": {},
     "output_type": "execute_result"
    },
    {
     "data": {
      "image/png": "[encoded data removed]",
      "text/plain": [
       "<Figure size 576x432 with 2 Axes>"
      ]
     },
     "metadata": {
      "needs_background": "light"
     },
     "output_type": "display_data"
    }
   ],
   "source": [
    "barWidth = 0.3\n",
    "br1 = np.arange(3)\n",
    "br2 = [x + barWidth for x in br1]\n",
    "fig, axs = plt.subplots(nrows=2,ncols=1, figsize= (8,6))\n",
    "fig.suptitle('Customer Retention Rate from 2016 to 2018 \\n (over 5 rides) ')\n",
    "\n",
    "pi_q = axs[0].bar(br1, customer_retention_ratio[0,:], width = barWidth, color = 'hotpink', align='center', edgecolor ='grey')\n",
    "ye_q = axs[0].bar(br2, customer_retention_ratio[1,:], width = barWidth, color = 'gold', align='center', edgecolor ='grey')\n",
    "axs[0].bar_label(pi_q,labels=[str(round(100*customer_retention_ratio[0,0],1))+'%',str(round(100*customer_retention_ratio[0,1],1))+'%',str(round(100*customer_retention_ratio[0,2],1))+'%'])\n",
    "axs[0].bar_label(ye_q,labels=[str(round(100*customer_retention_ratio[1,0],1))+'%',str(round(100*customer_retention_ratio[1,1],1))+'%',str(round(100*customer_retention_ratio[1,2],1))+'%'])\n",
    "axs[0].legend(['Pink Cab', 'Yellow cab'])\n",
    "axs[0].set_xticks([r + 0.5*barWidth for r in range(3)], ['2016','2017','2018'])\n",
    "axs[0].set_yticks(np.arange(0,0.6,0.2),['0', '20', '40'])\n",
    "axs[0].set_ylabel('% of total customers')\n",
    "\n",
    "axs[1].plot(np.arange(2016, 2019), customer_retention[0,:], color = 'hotpink')\n",
    "axs[1].plot(np.arange(2016, 2019), customer_retention[1,:], color = 'gold')\n",
    "axs[1].legend(['Pink Cab', 'Yellow cab'])\n",
    "axs[1].set_xticks(np.arange(2016, 2019), ['2016','2017','2018'])\n",
    "axs[1].set_yticks(np.arange(0,12e3, 2e3))\n",
    "axs[1].set_yticklabels(['0','2k','4k','6k','8k','10k'])\n",
    "axs[1].set_ylabel('Number of customers')"
   ]
  },
  {
   "cell_type": "markdown",
   "metadata": {},
   "source": [
    "# temporal change of number of customers"
   ]
  },
  {
   "cell_type": "code",
   "execution_count": null,
   "metadata": {},
   "outputs": [],
   "source": []
  }
 ],
 "metadata": {
  "kernelspec": {
   "display_name": "Python 3.9.12 ('base')",
   "language": "python",
   "name": "python3"
  },
  "language_info": {
   "codemirror_mode": {
    "name": "ipython",
    "version": 3
   },
   "file_extension": ".py",
   "mimetype": "text/x-python",
   "name": "python",
   "nbconvert_exporter": "python",
   "pygments_lexer": "ipython3",
   "version": "3.9.12"
  },
  "orig_nbformat": 4,
  "vscode": {
   "interpreter": {
    "hash": "9b5ee51eb0458e1d2234fdd995d5addef35e2e22c2406149c18fde7df47180dd"
   }
  }
 },
 "nbformat": 4,
 "nbformat_minor": 2
}
